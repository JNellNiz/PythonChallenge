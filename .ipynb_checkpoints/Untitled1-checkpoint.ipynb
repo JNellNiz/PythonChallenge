{
 "cells": [
  {
   "cell_type": "code",
   "execution_count": null,
   "id": "cb0e7748",
   "metadata": {},
   "outputs": [],
   "source": [
    "#Your task is to create a Python script that analyzes the records to calculate each of the following values:\n",
    "\n",
    "#The total number of months included in the dataset\n",
    "\n",
    "#The net total amount of \"Profit/Losses\" over the entire period\n",
    "\n",
    "#The changes in \"Profit/Losses\" over the entire period, and then the average of those changes\n",
    "\n",
    "#The greatest increase in profits (date and amount) over the entire period\n",
    "\n",
    "#The greatest decrease in profits (date and amount) over the entire period"
   ]
  },
  {
   "cell_type": "code",
   "execution_count": 1,
   "id": "8d386721",
   "metadata": {},
   "outputs": [
    {
     "name": "stdout",
     "output_type": "stream",
     "text": [
      "/Users/jnellniz/Desktop/Module 3/Module3ChallangeFiles/Starter_Code/PyBank/Resources\n"
     ]
    }
   ],
   "source": [
    "cd /Users/jnellniz/Desktop/Module 3/Module3ChallangeFiles/Starter_Code/PyBank/Resources"
   ]
  },
  {
   "cell_type": "code",
   "execution_count": 2,
   "id": "6d086a88",
   "metadata": {},
   "outputs": [],
   "source": [
    "import os\n",
    "import csv\n",
    "\n",
    "pybank_path = os.path.join(\"budget_data.csv\")"
   ]
  },
  {
   "cell_type": "code",
   "execution_count": 3,
   "id": "43335583",
   "metadata": {},
   "outputs": [
    {
     "data": {
      "text/plain": [
       "'budget_data.csv'"
      ]
     },
     "execution_count": 3,
     "metadata": {},
     "output_type": "execute_result"
    }
   ],
   "source": [
    "pybank_path"
   ]
  },
  {
   "cell_type": "code",
   "execution_count": 43,
   "id": "e010bffa",
   "metadata": {},
   "outputs": [
    {
     "ename": "TypeError",
     "evalue": "'float' object is not iterable",
     "output_type": "error",
     "traceback": [
      "\u001b[0;31m---------------------------------------------------------------------------\u001b[0m",
      "\u001b[0;31mTypeError\u001b[0m                                 Traceback (most recent call last)",
      "Cell \u001b[0;32mIn[43], line 20\u001b[0m\n\u001b[1;32m     18\u001b[0m pl\u001b[38;5;241m.\u001b[39mappend(row[\u001b[38;5;241m1\u001b[39m])\n\u001b[1;32m     19\u001b[0m \u001b[38;5;66;03m#print(row[0],row[1])\u001b[39;00m\n\u001b[0;32m---> 20\u001b[0m \u001b[38;5;28mprint\u001b[39m(\u001b[38;5;28msum\u001b[39m(\u001b[38;5;28mfloat\u001b[39m(row[\u001b[38;5;241m1\u001b[39m])))\n",
      "\u001b[0;31mTypeError\u001b[0m: 'float' object is not iterable"
     ]
    }
   ],
   "source": [
    "# Lists to store data\n",
    "date = []\n",
    "pl = []\n",
    "\n",
    "\n",
    "\n",
    "with open(pybank_path) as csvfile:\n",
    "\n",
    "# CSV reader specifies delimiter and variable that holds contents\n",
    "    csvreader = csv.reader(csvfile, delimiter=',')\n",
    "    \n",
    "# Read the header row first (skip this step if there is no header)\n",
    "    csv_header = next(csvreader)\n",
    "\n",
    "    for row in csvreader:\n",
    "\n",
    "        date.append(row[0])\n",
    "        pl.append(row[1])\n",
    "        #print(row[0],row[1])\n",
    "        print(row)  "
   ]
  },
  {
   "cell_type": "code",
   "execution_count": 38,
   "id": "dbdc2807",
   "metadata": {},
   "outputs": [
    {
     "ename": "ValueError",
     "evalue": "I/O operation on closed file.",
     "output_type": "error",
     "traceback": [
      "\u001b[0;31m---------------------------------------------------------------------------\u001b[0m",
      "\u001b[0;31mValueError\u001b[0m                                Traceback (most recent call last)",
      "Cell \u001b[0;32mIn[38], line 1\u001b[0m\n\u001b[0;32m----> 1\u001b[0m \u001b[38;5;28;01mfor\u001b[39;00m row \u001b[38;5;129;01min\u001b[39;00m csvreader:\n\u001b[1;32m      2\u001b[0m     \u001b[38;5;28mprint\u001b[39m(row)\n",
      "\u001b[0;31mValueError\u001b[0m: I/O operation on closed file."
     ]
    }
   ],
   "source": [
    "for row in csvreader:\n",
    "    print(row)\n"
   ]
  },
  {
   "cell_type": "code",
   "execution_count": 35,
   "id": "e6485934",
   "metadata": {
    "scrolled": true
   },
   "outputs": [
    {
     "data": {
      "text/plain": [
       "<_csv.reader at 0x10ad3df50>"
      ]
     },
     "execution_count": 35,
     "metadata": {},
     "output_type": "execute_result"
    }
   ],
   "source": [
    "csvreader"
   ]
  },
  {
   "cell_type": "code",
   "execution_count": 10,
   "id": "3b365a6a",
   "metadata": {},
   "outputs": [
    {
     "name": "stdout",
     "output_type": "stream",
     "text": [
      "Total number of months included in the dataset: 86\n"
     ]
    }
   ],
   "source": [
    "row_count = len(date)\n",
    "print(\"Total number of months included in the dataset: \" + str(row_count))"
   ]
  },
  {
   "cell_type": "code",
   "execution_count": 14,
   "id": "2b53f9f6",
   "metadata": {},
   "outputs": [
    {
     "data": {
      "text/plain": [
       "['1088983',\n",
       " '-354534',\n",
       " '276622',\n",
       " '-728133',\n",
       " '852993',\n",
       " '563721',\n",
       " '-535208',\n",
       " '632349',\n",
       " '-173744',\n",
       " '950741',\n",
       " '-785750',\n",
       " '-1194133',\n",
       " '-589576',\n",
       " '-883921',\n",
       " '443564',\n",
       " '837887',\n",
       " '1081472',\n",
       " '464033',\n",
       " '-1066544',\n",
       " '323846',\n",
       " '-806551',\n",
       " '487053',\n",
       " '1128811',\n",
       " '791398',\n",
       " '739367',\n",
       " '-197825',\n",
       " '666016',\n",
       " '589771',\n",
       " '489290',\n",
       " '-471439',\n",
       " '120417',\n",
       " '175347',\n",
       " '855449',\n",
       " '605195',\n",
       " '-235220',\n",
       " '347138',\n",
       " '298510',\n",
       " '163254',\n",
       " '1141840',\n",
       " '542630',\n",
       " '99841',\n",
       " '752765',\n",
       " '-252949',\n",
       " '914424',\n",
       " '679524',\n",
       " '514377',\n",
       " '462102',\n",
       " '159782',\n",
       " '878810',\n",
       " '-946748',\n",
       " '340335',\n",
       " '292032',\n",
       " '502266',\n",
       " '265852',\n",
       " '851017',\n",
       " '-549615',\n",
       " '290162',\n",
       " '755391',\n",
       " '1073202',\n",
       " '313000',\n",
       " '241132',\n",
       " '1036589',\n",
       " '853904',\n",
       " '-388932',\n",
       " '982952',\n",
       " '537759',\n",
       " '547784',\n",
       " '-496214',\n",
       " '854181',\n",
       " '934719',\n",
       " '-288531',\n",
       " '-184383',\n",
       " '659541',\n",
       " '-1149123',\n",
       " '355882',\n",
       " '662284',\n",
       " '518681',\n",
       " '-748256',\n",
       " '-910775',\n",
       " '951227',\n",
       " '898241',\n",
       " '-729004',\n",
       " '-112209',\n",
       " '516313',\n",
       " '607208',\n",
       " '382539']"
      ]
     },
     "execution_count": 14,
     "metadata": {},
     "output_type": "execute_result"
    }
   ],
   "source": [
    "#The net total amount of \"Profit/Losses\" over the entire period\n",
    "pl"
   ]
  },
  {
   "cell_type": "code",
   "execution_count": 16,
   "id": "d46809d6",
   "metadata": {},
   "outputs": [
    {
     "data": {
      "text/plain": [
       "list"
      ]
     },
     "execution_count": 16,
     "metadata": {},
     "output_type": "execute_result"
    }
   ],
   "source": [
    "type(pl)"
   ]
  },
  {
   "cell_type": "code",
   "execution_count": 20,
   "id": "71787199",
   "metadata": {},
   "outputs": [
    {
     "data": {
      "text/plain": [
       "[1088983.0,\n",
       " -354534.0,\n",
       " 276622.0,\n",
       " -728133.0,\n",
       " 852993.0,\n",
       " 563721.0,\n",
       " -535208.0,\n",
       " 632349.0,\n",
       " -173744.0,\n",
       " 950741.0,\n",
       " -785750.0,\n",
       " -1194133.0,\n",
       " -589576.0,\n",
       " -883921.0,\n",
       " 443564.0,\n",
       " 837887.0,\n",
       " 1081472.0,\n",
       " 464033.0,\n",
       " -1066544.0,\n",
       " 323846.0,\n",
       " -806551.0,\n",
       " 487053.0,\n",
       " 1128811.0,\n",
       " 791398.0,\n",
       " 739367.0,\n",
       " -197825.0,\n",
       " 666016.0,\n",
       " 589771.0,\n",
       " 489290.0,\n",
       " -471439.0,\n",
       " 120417.0,\n",
       " 175347.0,\n",
       " 855449.0,\n",
       " 605195.0,\n",
       " -235220.0,\n",
       " 347138.0,\n",
       " 298510.0,\n",
       " 163254.0,\n",
       " 1141840.0,\n",
       " 542630.0,\n",
       " 99841.0,\n",
       " 752765.0,\n",
       " -252949.0,\n",
       " 914424.0,\n",
       " 679524.0,\n",
       " 514377.0,\n",
       " 462102.0,\n",
       " 159782.0,\n",
       " 878810.0,\n",
       " -946748.0,\n",
       " 340335.0,\n",
       " 292032.0,\n",
       " 502266.0,\n",
       " 265852.0,\n",
       " 851017.0,\n",
       " -549615.0,\n",
       " 290162.0,\n",
       " 755391.0,\n",
       " 1073202.0,\n",
       " 313000.0,\n",
       " 241132.0,\n",
       " 1036589.0,\n",
       " 853904.0,\n",
       " -388932.0,\n",
       " 982952.0,\n",
       " 537759.0,\n",
       " 547784.0,\n",
       " -496214.0,\n",
       " 854181.0,\n",
       " 934719.0,\n",
       " -288531.0,\n",
       " -184383.0,\n",
       " 659541.0,\n",
       " -1149123.0,\n",
       " 355882.0,\n",
       " 662284.0,\n",
       " 518681.0,\n",
       " -748256.0,\n",
       " -910775.0,\n",
       " 951227.0,\n",
       " 898241.0,\n",
       " -729004.0,\n",
       " -112209.0,\n",
       " 516313.0,\n",
       " 607208.0,\n",
       " 382539.0]"
      ]
     },
     "execution_count": 20,
     "metadata": {},
     "output_type": "execute_result"
    }
   ],
   "source": [
    "pl_cleaned = [float(amount) for amount in pl]\n",
    "pl_cleaned"
   ]
  },
  {
   "cell_type": "code",
   "execution_count": 21,
   "id": "4955aaa6",
   "metadata": {},
   "outputs": [
    {
     "data": {
      "text/plain": [
       "22564198.0"
      ]
     },
     "execution_count": 21,
     "metadata": {},
     "output_type": "execute_result"
    }
   ],
   "source": [
    "sum(pl_cleaned)"
   ]
  },
  {
   "cell_type": "code",
   "execution_count": 25,
   "id": "b7075b2d",
   "metadata": {},
   "outputs": [
    {
     "ename": "IndentationError",
     "evalue": "unexpected indent (2561426095.py, line 8)",
     "output_type": "error",
     "traceback": [
      "\u001b[0;36m  Cell \u001b[0;32mIn[25], line 8\u001b[0;36m\u001b[0m\n\u001b[0;31m    change = int(row[1]) - prev_am\u001b[0m\n\u001b[0m    ^\u001b[0m\n\u001b[0;31mIndentationError\u001b[0m\u001b[0;31m:\u001b[0m unexpected indent\n"
     ]
    }
   ],
   "source": [
    "# Lists to store data\n",
    "date = []\n",
    "pl = []\n",
    "\n",
    "for row in csvreader:\n",
    "    \n",
    "     first_row = next(cvsreader)\n",
    "        \n",
    "        change = int(row[1]) - prev_am\n",
    "        \n",
    "        prev_am = int(first_row[1])\n",
    "        "
   ]
  },
  {
   "cell_type": "code",
   "execution_count": 45,
   "id": "e110ad13",
   "metadata": {},
   "outputs": [
    {
     "ename": "ValueError",
     "evalue": "could not convert string to float: 'Profit/Losses'",
     "output_type": "error",
     "traceback": [
      "\u001b[0;31m---------------------------------------------------------------------------\u001b[0m",
      "\u001b[0;31mValueError\u001b[0m                                Traceback (most recent call last)",
      "Cell \u001b[0;32mIn[45], line 13\u001b[0m\n\u001b[1;32m      9\u001b[0m csvreader \u001b[38;5;241m=\u001b[39m csv\u001b[38;5;241m.\u001b[39mreader(csvfile, delimiter\u001b[38;5;241m=\u001b[39m\u001b[38;5;124m'\u001b[39m\u001b[38;5;124m,\u001b[39m\u001b[38;5;124m'\u001b[39m)\n\u001b[1;32m     11\u001b[0m first_row \u001b[38;5;241m=\u001b[39m \u001b[38;5;28mnext\u001b[39m(csvreader)\n\u001b[0;32m---> 13\u001b[0m total \u001b[38;5;241m+\u001b[39m\u001b[38;5;241m=\u001b[39m \u001b[38;5;28mfloat\u001b[39m(first_row[\u001b[38;5;241m1\u001b[39m])\n\u001b[1;32m     15\u001b[0m prev_net \u001b[38;5;241m=\u001b[39m \u001b[38;5;28mint\u001b[39m(first_row[\u001b[38;5;241m1\u001b[39m])\n\u001b[1;32m     18\u001b[0m \u001b[38;5;28;01mfor\u001b[39;00m row \u001b[38;5;129;01min\u001b[39;00m csvreader:\n",
      "\u001b[0;31mValueError\u001b[0m: could not convert string to float: 'Profit/Losses'"
     ]
    }
   ],
   "source": [
    "# Lists to store data\n",
    "date = []\n",
    "pl = []\n",
    "total = 0\n",
    "\n",
    "with open(pybank_path) as csvfile:\n",
    "\n",
    "# CSV reader specifies delimiter and variable that holds contents\n",
    "    csvreader = csv.reader(csvfile, delimiter=',')\n",
    "   \n",
    "    first_row = next(csvreader)\n",
    "\n",
    "    total += float(first_row[1])\n",
    "    \n",
    "    prev_net = int(first_row[1])\n",
    "    \n",
    "    \n",
    "    for row in csvreader:\n",
    "        \n",
    "        total += int(row[1])\n",
    "        \n",
    "        # Track the net change\n",
    "        \n",
    "        change = int(row[1]) - prev_net\n",
    "        \n",
    "        prev_net = int(row[1])\n",
    "        \n",
    "        pl += [change]\n",
    "        \n",
    "        date += [row[0]]"
   ]
  },
  {
   "cell_type": "code",
   "execution_count": 23,
   "id": "4762fa39",
   "metadata": {},
   "outputs": [
    {
     "ename": "NameError",
     "evalue": "name 'prev_net' is not defined",
     "output_type": "error",
     "traceback": [
      "\u001b[0;31m---------------------------------------------------------------------------\u001b[0m",
      "\u001b[0;31mNameError\u001b[0m                                 Traceback (most recent call last)",
      "Cell \u001b[0;32mIn[23], line 3\u001b[0m\n\u001b[1;32m      1\u001b[0m \u001b[38;5;66;03m#The changes in \"Profit/Losses\" over the entire period, and then the average of those changes\u001b[39;00m\n\u001b[0;32m----> 3\u001b[0m net_change \u001b[38;5;241m=\u001b[39m \u001b[38;5;28mint\u001b[39m(row[\u001b[38;5;241m1\u001b[39m]) \u001b[38;5;241m-\u001b[39m prev_net\n\u001b[1;32m      4\u001b[0m prev_net \u001b[38;5;241m=\u001b[39m \u001b[38;5;28mint\u001b[39m(first_row[\u001b[38;5;241m1\u001b[39m])\n\u001b[1;32m      5\u001b[0m net_change_list \u001b[38;5;241m+\u001b[39m\u001b[38;5;241m=\u001b[39m [net_change]\n",
      "\u001b[0;31mNameError\u001b[0m: name 'prev_net' is not defined"
     ]
    }
   ],
   "source": [
    "#The changes in \"Profit/Losses\" over the entire period, and then the average of those changes\n",
    "\n",
    "prev_net = int(first_row[1])\n",
    "net_change = int(first_row[1]) - prev_net\n",
    "prev_net = int(first_row[1])\n",
    "net_change_list += [net_change]\n",
    "month_of_change += [row[0]]\n",
    "\n",
    "#could append through the entire list\n",
    "\n",
    "#would want to nest this in a for loop\n",
    "\n",
    "#another option is to append and then increments through the list - ex: +1 or i \n",
    "\n",
    "#collect the whole list "
   ]
  },
  {
   "cell_type": "code",
   "execution_count": null,
   "id": "ad6e5760",
   "metadata": {},
   "outputs": [],
   "source": [
    "#The changes in \"Profit/Losses\" over the entire period, and then the average of those changes\n",
    "\n",
    "# Track the total\n",
    "        #total_months += 1\n",
    "        #total_net += int(row[1])\n",
    "\n",
    "#net_change = int(row[1]) - prev_net"
   ]
  },
  {
   "cell_type": "code",
   "execution_count": null,
   "id": "35244f97",
   "metadata": {},
   "outputs": [],
   "source": [
    "#The changes in \"Profit/Losses\" over the entire period, and then the average of those changes\n",
    "\n",
    "\n",
    "#date = []\n",
    "#pl = []\n",
    "#changes = []\n",
    "\n",
    "data = []\n",
    "\n",
    "with open(pybank_path) as csvfile:\n",
    "\n",
    "# CSV reader specifies delimiter and variable that holds contents\n",
    "    csvreader = csv.reader(csvfile, delimiter=',')\n",
    "    \n",
    "# Read the header row first (skip this step if there is no header)\n",
    "    csv_header = next(csvreader)\n",
    "\n",
    "    for row in csvreader:\n",
    "\n",
    "        data.append()\n"
   ]
  }
 ],
 "metadata": {
  "kernelspec": {
   "display_name": "Python 3 (ipykernel)",
   "language": "python",
   "name": "python3"
  },
  "language_info": {
   "codemirror_mode": {
    "name": "ipython",
    "version": 3
   },
   "file_extension": ".py",
   "mimetype": "text/x-python",
   "name": "python",
   "nbconvert_exporter": "python",
   "pygments_lexer": "ipython3",
   "version": "3.11.5"
  }
 },
 "nbformat": 4,
 "nbformat_minor": 5
}
